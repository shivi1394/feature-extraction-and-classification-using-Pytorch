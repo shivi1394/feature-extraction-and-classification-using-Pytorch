{
 "cells": [
  {
   "cell_type": "code",
   "execution_count": 1,
   "metadata": {
    "collapsed": true
   },
   "outputs": [],
   "source": [
    "import torch\n",
    "import torchvision\n",
    "import torchvision.datasets as datasets\n",
    "import torchvision.transforms as transforms\n",
    "import torch.nn as nn\n",
    "import torch.nn.functional as F\n",
    "import torch.optim as optim\n",
    "import matplotlib \n",
    "import matplotlib.pyplot as plt\n",
    "import numpy as np\n",
    "import pandas as pd\n",
    "import random\n",
    "import math\n",
    "import numpy\n",
    "from PIL import Image\n",
    "from pylab import *\n",
    "from skimage.feature import hog\n",
    "from skimage import feature\n",
    "import cv2\n",
    "from skimage import exposure\n",
    "import timeit\n",
    "from skimage import transform as tf"
   ]
  },
  {
   "cell_type": "code",
   "execution_count": 2,
   "metadata": {
    "collapsed": true
   },
   "outputs": [],
   "source": [
    "#Convolution Neural Network \n",
    "class Net(nn.Module):\n",
    "    def __init__(self):\n",
    "        super(Net, self).__init__()\n",
    "        self.conv1 = nn.Conv2d(1,20,5,1)\n",
    "        self.pool = nn.MaxPool2d(kernel_size=2)\n",
    "        self.conv2 = nn.Conv2d(20, 40, 5, 1)\n",
    "        self.fc1 = nn.Linear(4 * 4 * 40, 500)\n",
    "        self.fc2 = nn.Linear(500, 10)\n",
    "        \n",
    "\n",
    "    def forward(self, x):\n",
    "        x = F.relu(self.conv1(x))\n",
    "        x = self.pool(x)\n",
    "        x = F.relu(self.conv2(x))\n",
    "        x = self.pool(x)\n",
    "        x = x.view(-1, 4 * 4 * 40)\n",
    "        x = F.relu(self.fc1(x))\n",
    "        x = self.fc2(x)\n",
    "        return x\n",
    "\n",
    "\n",
    "net = Net()"
   ]
  },
  {
   "cell_type": "code",
   "execution_count": 3,
   "metadata": {
    "collapsed": true
   },
   "outputs": [],
   "source": [
    "criterion = nn.CrossEntropyLoss() \n",
    "optimizer = optim.Adam(net.parameters(), lr=0.001, betas=(0.9,0.99), eps=1e-08, weight_decay=0.001) "
   ]
  },
  {
   "cell_type": "code",
   "execution_count": 4,
   "metadata": {
    "collapsed": true
   },
   "outputs": [],
   "source": [
    "# transforms to apply to the Fashion mnist data\n",
    "normalize = transforms.Normalize(mean=[x/255.0 for x in [125.3, 123.0, 113.9]],\n",
    "                                     std=[x/255.0 for x in [63.0, 62.1, 66.7]])\n",
    "\n",
    "transform = transforms.Compose([transforms.ToTensor(),\n",
    "                                transforms.Normalize((0.1307,), (0.3081,))])\n",
    "\n",
    "# Fashion MNIST dataset\n",
    "train_dataset = datasets.FashionMNIST(root='./fmnist/', train=True, download=True, transform=transform)\n",
    "test_dataset = datasets.FashionMNIST(root='./fmnist/', train=False, download=True, transform=transform)\n",
    "train_loader = torch.utils.data.DataLoader(train_dataset, batch_size=10, shuffle=True, num_workers=2)\n",
    "test_loader = torch.utils.data.DataLoader(dataset=test_dataset, batch_size=10, shuffle=False, num_workers=2)"
   ]
  },
  {
   "cell_type": "code",
   "execution_count": 5,
   "metadata": {},
   "outputs": [
    {
     "data": {
      "image/png": "[encoded data removed]",
      "text/plain": [
       "<matplotlib.figure.Figure at 0x1c2a1d6518>"
      ]
     },
     "metadata": {},
     "output_type": "display_data"
    }
   ],
   "source": [
    "labels_map = ('T-Shirt', 'Trouser', 'Pullover', 'Dress', 'Coat', 'Sandal', 'Shirt','Sneaker', 'Bag', 'Ankle Boot')\n",
    "fig = plt.figure(figsize=(10,10));\n",
    "columns = 4;\n",
    "rows = 5;\n",
    "for i in range(1, 10):\n",
    "    fig.add_subplot(rows, columns, i)\n",
    "    fig.tight_layout()\n",
    "    plt.imshow(train_dataset.train_data[i].numpy(), cmap='gray')\n",
    "    plt.title('Label : %s' % labels_map[train_dataset.train_labels[i]])\n",
    "plt.show()"
   ]
  },
  {
   "cell_type": "code",
   "execution_count": 6,
   "metadata": {},
   "outputs": [
    {
     "name": "stdout",
     "output_type": "stream",
     "text": [
      "----------------------------------------------------\n",
      "Epoch 1  | Loss : 0.4352\n",
      "----------------------------------------------------\n",
      "Epoch 2  | Loss : 0.3302\n",
      "----------------------------------------------------\n",
      "Epoch 3  | Loss : 0.3049\n",
      "----------------------------------------------------\n",
      "Epoch 4  | Loss : 0.2887\n",
      "----------------------------------------------------\n",
      "Epoch 5  | Loss : 0.2756\n",
      "----------------------------------------------------\n",
      "Epoch 6  | Loss : 0.2681\n",
      "----------------------------------------------------\n",
      "Epoch 7  | Loss : 0.2643\n",
      "----------------------------------------------------\n",
      "Epoch 8  | Loss : 0.2593\n",
      "----------------------------------------------------\n",
      "Epoch 9  | Loss : 0.2557\n",
      "----------------------------------------------------\n",
      "Epoch 10  | Loss : 0.2496\n",
      "----------------------------------------------------\n",
      "Epoch 11  | Loss : 0.2482\n",
      "----------------------------------------------------\n",
      "Epoch 12  | Loss : 0.2464\n",
      "----------------------------------------------------\n",
      "Epoch 13  | Loss : 0.2459\n",
      "----------------------------------------------------\n",
      "Epoch 14  | Loss : 0.2438\n",
      "----------------------------------------------------\n",
      "Epoch 15  | Loss : 0.2441\n",
      "----------------------------------------------------\n",
      "Epoch 16  | Loss : 0.2418\n",
      "----------------------------------------------------\n",
      "Epoch 17  | Loss : 0.2392\n",
      "----------------------------------------------------\n",
      "Epoch 18  | Loss : 0.2384\n",
      "----------------------------------------------------\n",
      "Epoch 19  | Loss : 0.2388\n",
      "----------------------------------------------------\n",
      "Epoch 20  | Loss : 0.2361\n",
      "----------------------------------------------------\n",
      "Finished Training\n"
     ]
    }
   ],
   "source": [
    "num_epochs = 20\n",
    "total_step = len(train_loader)\n",
    "Loss_1 = []\n",
    "print('----------------------------------------------------')\n",
    "start = timeit.default_timer()\n",
    "for epoch in range(num_epochs):  # loop over the dataset multiple times\n",
    "\n",
    "    running_loss = 0.0\n",
    "    for i, data in enumerate(train_loader, 0):\n",
    "        # get the inputs\n",
    "        inputs, labels = data\n",
    "\n",
    "        # zero the parameter gradients\n",
    "        optimizer.zero_grad()\n",
    "\n",
    "        # forward + backward + optimize\n",
    "        outputs = net(inputs)\n",
    "        loss = criterion(outputs, labels)\n",
    "        loss.backward()\n",
    "        optimizer.step()\n",
    "\n",
    "        # print statistics\n",
    "        running_loss += loss.item()\n",
    "        \n",
    "    print('Epoch {}  | Loss : {:.4f}'.format(epoch+1, running_loss / total_step))        \n",
    "    print('----------------------------------------------------')\n",
    "    Loss_1.append(running_loss / total_step)\n",
    "print('Finished Training')\n",
    "stop = timeit.default_timer()"
   ]
  },
  {
   "cell_type": "code",
   "execution_count": 7,
   "metadata": {},
   "outputs": [
    {
     "name": "stdout",
     "output_type": "stream",
     "text": [
      "Accuracy of the network on the Test images: 89 %\n"
     ]
    }
   ],
   "source": [
    "correct = 0\n",
    "total = 0\n",
    "with torch.no_grad():\n",
    "    for data in test_loader:\n",
    "        images, labels = data\n",
    "        outputs = net(images)\n",
    "        _, predicted = torch.max(outputs.data, 1)\n",
    "        total += labels.size(0)\n",
    "        correct += (predicted == labels).sum().item()\n",
    "\n",
    "print('Accuracy of the network on the Test images: %d %%' % (100 * correct / total))"
   ]
  },
  {
   "cell_type": "code",
   "execution_count": 8,
   "metadata": {},
   "outputs": [
    {
     "name": "stdout",
     "output_type": "stream",
     "text": [
      "Accuracy of class T-Shirt : 90 %\n",
      "Accuracy of class Trouser : 96 %\n",
      "Accuracy of class Pullover : 91 %\n",
      "Accuracy of class Dress : 90 %\n",
      "Accuracy of class  Coat : 75 %\n",
      "Accuracy of class Sandal : 96 %\n",
      "Accuracy of class Shirt : 59 %\n",
      "Accuracy of class Sneaker : 96 %\n",
      "Accuracy of class   Bag : 98 %\n",
      "Accuracy of class Ankle Boot : 97 %\n"
     ]
    }
   ],
   "source": [
    "class_correct = list(0. for i in range(10))\n",
    "class_total = list(0. for i in range(10))\n",
    "with torch.no_grad():\n",
    "    for data in test_loader:\n",
    "        images, labels = data\n",
    "        outputs = net(images)\n",
    "        _, predicted = torch.max(outputs, 1)\n",
    "        c = (predicted == labels).squeeze()\n",
    "        for i in range(10):\n",
    "            label = labels[i]\n",
    "            class_correct[label] += c[i].item()\n",
    "            class_total[label] += 1\n",
    "\n",
    "for i in range(10):\n",
    "    print('Accuracy of class %5s : %2d %%' % (\n",
    "        labels_map[i], 100 * class_correct[i] / class_total[i]))"
   ]
  },
  {
   "cell_type": "code",
   "execution_count": 9,
   "metadata": {
    "collapsed": true
   },
   "outputs": [],
   "source": [
    "train_edge = datasets.FashionMNIST(root='./fmnist/', train=True, download=True, transform=transform)\n",
    "test_edge = datasets.FashionMNIST(root='./fmnist/', train=False, download=True, transform=transform)\n",
    "\n",
    "for i in range(0,len(train_edge)):\n",
    "    image = feature.canny(train_edge.train_data[i].numpy()) * 1\n",
    "    train_edge.train_data[i] = torch.from_numpy(image)\n",
    "    \n",
    "for i in range(0,len(test_edge)):\n",
    "    image = feature.canny(test_edge.test_data[i].numpy()) * 1\n",
    "    test_edge.test_data[i] = torch.from_numpy(image)"
   ]
  },
  {
   "cell_type": "code",
   "execution_count": 10,
   "metadata": {},
   "outputs": [
    {
     "data": {
      "image/png": "[encoded data removed]",
      "text/plain": [
       "<matplotlib.figure.Figure at 0x1c2e35cef0>"
      ]
     },
     "metadata": {},
     "output_type": "display_data"
    }
   ],
   "source": [
    "fig = plt.figure(figsize=(10,10));\n",
    "columns = 4;\n",
    "rows = 5;\n",
    "for i in range(1, 10):\n",
    "    fig.add_subplot(rows, columns, i)\n",
    "    fig.tight_layout()\n",
    "    plt.imshow(train_edge.train_data[i].numpy(), cmap='gray')\n",
    "    plt.title('Label : %s' % labels_map[train_edge.train_labels[i]])\n",
    "plt.show()"
   ]
  },
  {
   "cell_type": "code",
   "execution_count": 11,
   "metadata": {
    "collapsed": true
   },
   "outputs": [],
   "source": [
    "train_edge_loader = torch.utils.data.DataLoader(dataset=train_edge, batch_size=10, shuffle=True, num_workers=2)\n",
    "test_edge_loader = torch.utils.data.DataLoader(dataset=test_edge, batch_size=10, shuffle=False, num_workers=2)"
   ]
  },
  {
   "cell_type": "code",
   "execution_count": 12,
   "metadata": {},
   "outputs": [
    {
     "name": "stdout",
     "output_type": "stream",
     "text": [
      "----------------------------------------------------\n",
      "Epoch 1  | Loss : 2.3051\n",
      "----------------------------------------------------\n",
      "Epoch 2  | Loss : 2.3033\n",
      "----------------------------------------------------\n",
      "Epoch 3  | Loss : 2.3031\n",
      "----------------------------------------------------\n",
      "Epoch 4  | Loss : 2.3031\n",
      "----------------------------------------------------\n",
      "Epoch 5  | Loss : 2.3032\n",
      "----------------------------------------------------\n",
      "Epoch 6  | Loss : 2.3030\n",
      "----------------------------------------------------\n",
      "Epoch 7  | Loss : 2.3030\n",
      "----------------------------------------------------\n",
      "Epoch 8  | Loss : 2.3031\n",
      "----------------------------------------------------\n",
      "Epoch 9  | Loss : 2.3031\n",
      "----------------------------------------------------\n",
      "Epoch 10  | Loss : 2.3032\n",
      "----------------------------------------------------\n",
      "Epoch 11  | Loss : 2.3032\n",
      "----------------------------------------------------\n",
      "Epoch 12  | Loss : 2.3032\n",
      "----------------------------------------------------\n",
      "Epoch 13  | Loss : 2.3031\n",
      "----------------------------------------------------\n",
      "Epoch 14  | Loss : 2.3032\n",
      "----------------------------------------------------\n",
      "Epoch 15  | Loss : 2.3031\n",
      "----------------------------------------------------\n",
      "Epoch 16  | Loss : 2.3032\n",
      "----------------------------------------------------\n",
      "Epoch 17  | Loss : 2.3031\n",
      "----------------------------------------------------\n",
      "Epoch 18  | Loss : 2.3031\n",
      "----------------------------------------------------\n",
      "Epoch 19  | Loss : 2.3032\n",
      "----------------------------------------------------\n",
      "Epoch 20  | Loss : 2.3031\n",
      "----------------------------------------------------\n",
      "Finished Training\n"
     ]
    }
   ],
   "source": [
    "num_epochs = 20\n",
    "total_step = len(train_edge_loader)\n",
    "Loss_2 = []\n",
    "print('----------------------------------------------------')\n",
    "start_edge = timeit.default_timer()\n",
    "for epoch in range(num_epochs):  # loop over the dataset multiple times\n",
    "\n",
    "    running_loss = 0.0\n",
    "    for i, data in enumerate(train_edge_loader, 0):\n",
    "        # get the inputs\n",
    "        inputs, labels = data\n",
    "\n",
    "        # zero the parameter gradients\n",
    "        optimizer.zero_grad()\n",
    "\n",
    "        # forward + backward + optimize\n",
    "        outputs = net(inputs)\n",
    "        loss = criterion(outputs, labels)\n",
    "        loss.backward()\n",
    "        optimizer.step()\n",
    "\n",
    "        # print statistics\n",
    "        running_loss += loss.item()\n",
    "        \n",
    "    print('Epoch {}  | Loss : {:.4f}'.format(epoch+1, running_loss / total_step))        \n",
    "    print('----------------------------------------------------')\n",
    "    Loss_2.append(running_loss / total_step)\n",
    "print('Finished Training')\n",
    "stop_edge = timeit.default_timer()"
   ]
  },
  {
   "cell_type": "code",
   "execution_count": 13,
   "metadata": {},
   "outputs": [
    {
     "name": "stdout",
     "output_type": "stream",
     "text": [
      "Accuracy of the network on the Test images: 10 %\n"
     ]
    }
   ],
   "source": [
    "correct = 0\n",
    "total = 0\n",
    "with torch.no_grad():\n",
    "    for data in test_edge_loader:\n",
    "        images, labels = data\n",
    "        outputs = net(images)\n",
    "        _, predicted = torch.max(outputs.data, 1)\n",
    "        total += labels.size(0)\n",
    "        correct += (predicted == labels).sum().item()\n",
    "\n",
    "print('Accuracy of the network on the Test images: %d %%' % (100 * correct / total))"
   ]
  },
  {
   "cell_type": "code",
   "execution_count": 14,
   "metadata": {},
   "outputs": [
    {
     "name": "stdout",
     "output_type": "stream",
     "text": [
      "Accuracy of class T-Shirt :  0 %\n",
      "Accuracy of class Trouser :  0 %\n",
      "Accuracy of class Pullover :  0 %\n",
      "Accuracy of class Dress : 100 %\n",
      "Accuracy of class  Coat :  0 %\n",
      "Accuracy of class Sandal :  0 %\n",
      "Accuracy of class Shirt :  0 %\n",
      "Accuracy of class Sneaker :  0 %\n",
      "Accuracy of class   Bag :  0 %\n",
      "Accuracy of class Ankle Boot :  0 %\n"
     ]
    }
   ],
   "source": [
    "class_correct = list(0. for i in range(10))\n",
    "class_total = list(0. for i in range(10))\n",
    "with torch.no_grad():\n",
    "    for data in test_edge_loader:\n",
    "        images, labels = data\n",
    "        outputs = net(images)\n",
    "        _, predicted = torch.max(outputs, 1)\n",
    "        c = (predicted == labels).squeeze()\n",
    "        for i in range(10):\n",
    "            label = labels[i]\n",
    "            class_correct[label] += c[i].item()\n",
    "            class_total[label] += 1\n",
    "\n",
    "for i in range(10):\n",
    "    print('Accuracy of class %5s : %2d %%' % (\n",
    "        labels_map[i], 100 * class_correct[i] / class_total[i]))"
   ]
  },
  {
   "cell_type": "code",
   "execution_count": 15,
   "metadata": {
    "collapsed": true
   },
   "outputs": [],
   "source": [
    "train_lbp = datasets.FashionMNIST(root='./fmnist/', train=True, download=True, transform=transform)\n",
    "test_lbp = datasets.FashionMNIST(root='./fmnist/', train=False, download=True, transform=transform)\n",
    "\n",
    "for i in range(0,len(train_lbp)):\n",
    "    image = feature.local_binary_pattern(train_lbp.train_data[i].numpy(), P = 100, R = 50)\n",
    "    train_lbp.train_data[i] = torch.from_numpy(image)\n",
    "    \n",
    "for i in range(0,len(test_lbp)):\n",
    "    image = feature.local_binary_pattern(test_lbp.test_data[i].numpy(), P = 100, R = 50)\n",
    "    test_lbp.test_data[i] = torch.from_numpy(image)"
   ]
  },
  {
   "cell_type": "code",
   "execution_count": 16,
   "metadata": {},
   "outputs": [
    {
     "data": {
      "image/png": "[encoded data removed]",
      "text/plain": [
       "<matplotlib.figure.Figure at 0x1c2e13ff28>"
      ]
     },
     "metadata": {},
     "output_type": "display_data"
    }
   ],
   "source": [
    "fig = plt.figure(figsize=(10,10));\n",
    "columns = 4;\n",
    "rows = 5;\n",
    "for i in range(1, 10):\n",
    "    fig.add_subplot(rows, columns, i)\n",
    "    fig.tight_layout()\n",
    "    plt.imshow(train_lbp.train_data[i].numpy(), cmap='gray')\n",
    "    plt.title('Label : %s' % labels_map[train_lbp.train_labels[i]])\n",
    "plt.show()"
   ]
  },
  {
   "cell_type": "code",
   "execution_count": 17,
   "metadata": {
    "collapsed": true
   },
   "outputs": [],
   "source": [
    "train_lbp_loader = torch.utils.data.DataLoader(train_lbp, batch_size=10, shuffle=True, num_workers=2)\n",
    "test_lbp_loader = torch.utils.data.DataLoader(dataset=test_lbp, batch_size=10, shuffle=False, num_workers=2)"
   ]
  },
  {
   "cell_type": "code",
   "execution_count": 18,
   "metadata": {},
   "outputs": [
    {
     "name": "stdout",
     "output_type": "stream",
     "text": [
      "----------------------------------------------------\n",
      "Epoch 1  | Loss : 0.5075\n",
      "----------------------------------------------------\n",
      "Epoch 2  | Loss : 0.3695\n",
      "----------------------------------------------------\n",
      "Epoch 3  | Loss : 0.3405\n",
      "----------------------------------------------------\n",
      "Epoch 4  | Loss : 0.3252\n",
      "----------------------------------------------------\n",
      "Epoch 5  | Loss : 0.3181\n",
      "----------------------------------------------------\n",
      "Epoch 6  | Loss : 0.3091\n",
      "----------------------------------------------------\n",
      "Epoch 7  | Loss : 0.3053\n",
      "----------------------------------------------------\n",
      "Epoch 8  | Loss : 0.3015\n",
      "----------------------------------------------------\n",
      "Epoch 9  | Loss : 0.2967\n",
      "----------------------------------------------------\n",
      "Epoch 10  | Loss : 0.2926\n",
      "----------------------------------------------------\n",
      "Epoch 11  | Loss : 0.2898\n",
      "----------------------------------------------------\n",
      "Epoch 12  | Loss : 0.2900\n",
      "----------------------------------------------------\n",
      "Epoch 13  | Loss : 0.2880\n",
      "----------------------------------------------------\n",
      "Epoch 14  | Loss : 0.2848\n",
      "----------------------------------------------------\n",
      "Epoch 15  | Loss : 0.2840\n",
      "----------------------------------------------------\n",
      "Epoch 16  | Loss : 0.2823\n",
      "----------------------------------------------------\n",
      "Epoch 17  | Loss : 0.2808\n",
      "----------------------------------------------------\n",
      "Epoch 18  | Loss : 0.2801\n",
      "----------------------------------------------------\n",
      "Epoch 19  | Loss : 0.2791\n",
      "----------------------------------------------------\n",
      "Epoch 20  | Loss : 0.2776\n",
      "----------------------------------------------------\n",
      "Finished Training\n"
     ]
    }
   ],
   "source": [
    "num_epochs = 20\n",
    "total_step = len(train_lbp_loader)\n",
    "Loss_3 = []\n",
    "print('----------------------------------------------------')\n",
    "start_lbp = timeit.default_timer()\n",
    "for epoch in range(num_epochs):  # loop over the dataset multiple times\n",
    "\n",
    "    running_loss = 0.0\n",
    "    for i, data in enumerate(train_lbp_loader, 0):\n",
    "        # get the inputs\n",
    "        inputs, labels = data\n",
    "\n",
    "        # zero the parameter gradients\n",
    "        optimizer.zero_grad()\n",
    "\n",
    "        # forward + backward + optimize\n",
    "        outputs = net(inputs)\n",
    "        loss = criterion(outputs, labels)\n",
    "        loss.backward()\n",
    "        optimizer.step()\n",
    "\n",
    "        # print statistics\n",
    "        running_loss += loss.item()\n",
    "        \n",
    "    print('Epoch {}  | Loss : {:.4f}'.format(epoch+1, running_loss / total_step))        \n",
    "    print('----------------------------------------------------')\n",
    "    Loss_3.append(running_loss / total_step)\n",
    "print('Finished Training')\n",
    "stop_lbp = timeit.default_timer()"
   ]
  },
  {
   "cell_type": "code",
   "execution_count": 19,
   "metadata": {},
   "outputs": [
    {
     "name": "stdout",
     "output_type": "stream",
     "text": [
      "Accuracy of the network on the Test images: 87 %\n"
     ]
    }
   ],
   "source": [
    "correct = 0\n",
    "total = 0\n",
    "with torch.no_grad():\n",
    "    for data in test_lbp_loader:\n",
    "        images, labels = data\n",
    "        outputs = net(images)\n",
    "        _, predicted = torch.max(outputs.data, 1)\n",
    "        total += labels.size(0)\n",
    "        correct += (predicted == labels).sum().item()\n",
    "\n",
    "print('Accuracy of the network on the Test images: %d %%' % (100 * correct / total))"
   ]
  },
  {
   "cell_type": "code",
   "execution_count": 20,
   "metadata": {},
   "outputs": [
    {
     "name": "stdout",
     "output_type": "stream",
     "text": [
      "Accuracy of class T-Shirt : 90 %\n",
      "Accuracy of class Trouser : 97 %\n",
      "Accuracy of class Pullover : 80 %\n",
      "Accuracy of class Dress : 89 %\n",
      "Accuracy of class  Coat : 79 %\n",
      "Accuracy of class Sandal : 96 %\n",
      "Accuracy of class Shirt : 57 %\n",
      "Accuracy of class Sneaker : 97 %\n",
      "Accuracy of class   Bag : 96 %\n",
      "Accuracy of class Ankle Boot : 94 %\n"
     ]
    }
   ],
   "source": [
    "classes = (0, 1, 2, 3, 4, 5, 6, 7, 8, 9)\n",
    "class_correct = list(0. for i in range(10))\n",
    "class_total = list(0. for i in range(10))\n",
    "with torch.no_grad():\n",
    "    for data in test_lbp_loader:\n",
    "        images, labels = data\n",
    "        outputs = net(images)\n",
    "        _, predicted = torch.max(outputs, 1)\n",
    "        c = (predicted == labels).squeeze()\n",
    "        for i in range(10):\n",
    "            label = labels[i]\n",
    "            class_correct[label] += c[i].item()\n",
    "            class_total[label] += 1\n",
    "for i in range(10):\n",
    "    print('Accuracy of class %5s : %2d %%' % (\n",
    "        labels_map[i], 100 * class_correct[i] / class_total[i]))          "
   ]
  },
  {
   "cell_type": "code",
   "execution_count": 21,
   "metadata": {
    "collapsed": true
   },
   "outputs": [],
   "source": [
    "train_plm = datasets.FashionMNIST(root='./fmnist/', train=True, download=True, transform=transform)\n",
    "test_plm = datasets.FashionMNIST(root='./fmnist/', train=False, download=True, transform=transform)\n",
    "\n",
    "for i in range(0,len(train_plm)):\n",
    "    image = feature.peak_local_max(train_plm.train_data[i].numpy(), indices = False) * 1\n",
    "    train_plm.train_data[i] = torch.from_numpy(image)\n",
    "    \n",
    "for i in range(0,len(test_plm)):\n",
    "    image = feature.peak_local_max(test_plm.test_data[i].numpy(), indices = False) * 1\n",
    "    test_plm.test_data[i] = torch.from_numpy(image)\n"
   ]
  },
  {
   "cell_type": "code",
   "execution_count": 22,
   "metadata": {},
   "outputs": [
    {
     "data": {
      "image/png": "[encoded data removed]",
      "text/plain": [
       "<matplotlib.figure.Figure at 0x1c2a1ef3c8>"
      ]
     },
     "metadata": {},
     "output_type": "display_data"
    }
   ],
   "source": [
    "fig = plt.figure(figsize=(10,10));\n",
    "columns = 4;\n",
    "rows = 5;\n",
    "for i in range(1, 10):\n",
    "    fig.add_subplot(rows, columns, i)\n",
    "    fig.tight_layout()\n",
    "    plt.imshow(train_plm.train_data[i].numpy(), cmap='gray')\n",
    "    plt.title('Label : %s' % labels_map[train_lbp.train_labels[i]])\n",
    "plt.show()"
   ]
  },
  {
   "cell_type": "code",
   "execution_count": 25,
   "metadata": {
    "collapsed": true
   },
   "outputs": [],
   "source": [
    "train_plm_loader = torch.utils.data.DataLoader(train_plm, batch_size=10, shuffle=True, num_workers=2)\n",
    "test_plm_loader = torch.utils.data.DataLoader(dataset=test_plm, batch_size=10, shuffle=False, num_workers=2)"
   ]
  },
  {
   "cell_type": "code",
   "execution_count": 26,
   "metadata": {},
   "outputs": [
    {
     "name": "stdout",
     "output_type": "stream",
     "text": [
      "----------------------------------------------------\n",
      "Epoch 1  | Loss : 2.3031\n",
      "----------------------------------------------------\n",
      "Epoch 2  | Loss : 2.3031\n",
      "----------------------------------------------------\n",
      "Epoch 3  | Loss : 2.3031\n",
      "----------------------------------------------------\n",
      "Epoch 4  | Loss : 2.3031\n",
      "----------------------------------------------------\n",
      "Epoch 5  | Loss : 2.3032\n",
      "----------------------------------------------------\n",
      "Epoch 6  | Loss : 2.3032\n",
      "----------------------------------------------------\n",
      "Epoch 7  | Loss : 2.3032\n",
      "----------------------------------------------------\n",
      "Epoch 8  | Loss : 2.3030\n",
      "----------------------------------------------------\n",
      "Epoch 9  | Loss : 2.3032\n",
      "----------------------------------------------------\n",
      "Epoch 10  | Loss : 2.3030\n",
      "----------------------------------------------------\n",
      "Epoch 11  | Loss : 2.3031\n",
      "----------------------------------------------------\n",
      "Epoch 12  | Loss : 2.3030\n",
      "----------------------------------------------------\n",
      "Epoch 13  | Loss : 2.3031\n",
      "----------------------------------------------------\n",
      "Epoch 14  | Loss : 2.3031\n",
      "----------------------------------------------------\n",
      "Epoch 15  | Loss : 2.3032\n",
      "----------------------------------------------------\n",
      "Epoch 16  | Loss : 2.3031\n",
      "----------------------------------------------------\n",
      "Epoch 17  | Loss : 2.3030\n",
      "----------------------------------------------------\n",
      "Epoch 18  | Loss : 2.3030\n",
      "----------------------------------------------------\n",
      "Epoch 19  | Loss : 2.3031\n",
      "----------------------------------------------------\n",
      "Epoch 20  | Loss : 2.3031\n",
      "----------------------------------------------------\n",
      "Finished Training\n"
     ]
    }
   ],
   "source": [
    "num_epochs = 20\n",
    "total_step = len(train_plm_loader)\n",
    "Loss_4 = []\n",
    "print('----------------------------------------------------')\n",
    "start_plm = timeit.default_timer()\n",
    "for epoch in range(num_epochs):  # loop over the dataset multiple times\n",
    "\n",
    "    running_loss = 0.0\n",
    "    for i, data in enumerate(train_plm_loader, 0):\n",
    "        # get the inputs\n",
    "        inputs, labels = data\n",
    "\n",
    "        # zero the parameter gradients\n",
    "        optimizer.zero_grad()\n",
    "\n",
    "        # forward + backward + optimize\n",
    "        outputs = net(inputs)\n",
    "        loss = criterion(outputs, labels)\n",
    "        loss.backward()\n",
    "        optimizer.step()\n",
    "\n",
    "        # print statistics\n",
    "        running_loss += loss.item()\n",
    "        \n",
    "    print('Epoch {}  | Loss : {:.4f}'.format(epoch+1, running_loss / total_step))        \n",
    "    print('----------------------------------------------------')\n",
    "    Loss_4.append(running_loss / total_step)\n",
    "print('Finished Training')\n",
    "stop_plm = timeit.default_timer()"
   ]
  },
  {
   "cell_type": "code",
   "execution_count": 27,
   "metadata": {},
   "outputs": [
    {
     "name": "stdout",
     "output_type": "stream",
     "text": [
      "Accuracy of the network on the Test images: 10 %\n"
     ]
    }
   ],
   "source": [
    "correct = 0\n",
    "total = 0\n",
    "with torch.no_grad():\n",
    "    for data in test_plm_loader:\n",
    "        images, labels = data\n",
    "        outputs = net(images)\n",
    "        _, predicted = torch.max(outputs.data, 1)\n",
    "        total += labels.size(0)\n",
    "        correct += (predicted == labels).sum().item()\n",
    "\n",
    "print('Accuracy of the network on the Test images: %d %%' % (100 * correct / total))"
   ]
  },
  {
   "cell_type": "code",
   "execution_count": 28,
   "metadata": {},
   "outputs": [
    {
     "name": "stdout",
     "output_type": "stream",
     "text": [
      "Accuracy of class T-Shirt :  0 %\n",
      "Accuracy of class Trouser :  0 %\n",
      "Accuracy of class Pullover :  0 %\n",
      "Accuracy of class Dress :  0 %\n",
      "Accuracy of class  Coat : 100 %\n",
      "Accuracy of class Sandal :  0 %\n",
      "Accuracy of class Shirt :  0 %\n",
      "Accuracy of class Sneaker :  0 %\n",
      "Accuracy of class   Bag :  0 %\n",
      "Accuracy of class Ankle Boot :  0 %\n"
     ]
    }
   ],
   "source": [
    "classes = (0, 1, 2, 3, 4, 5, 6, 7, 8, 9)\n",
    "class_correct = list(0. for i in range(10))\n",
    "class_total = list(0. for i in range(10))\n",
    "with torch.no_grad():\n",
    "    for data in test_plm_loader:\n",
    "        images, labels = data\n",
    "        outputs = net(images)\n",
    "        _, predicted = torch.max(outputs, 1)\n",
    "        c = (predicted == labels).squeeze()\n",
    "        for i in range(10):\n",
    "            label = labels[i]\n",
    "            class_correct[label] += c[i].item()\n",
    "            class_total[label] += 1\n",
    "            \n",
    "for i in range(10):\n",
    "    print('Accuracy of class %5s : %2d %%' % (\n",
    "        labels_map[i], 100 * class_correct[i] / class_total[i]))"
   ]
  },
  {
   "cell_type": "code",
   "execution_count": 31,
   "metadata": {},
   "outputs": [
    {
     "data": {
      "image/png": "[encoded data removed]",
      "text/plain": [
       "<matplotlib.figure.Figure at 0x1c2d6264e0>"
      ]
     },
     "metadata": {},
     "output_type": "display_data"
    }
   ],
   "source": [
    "plt.plot(Loss_1, 'r--', label = \"CNN\")\n",
    "plt.plot(Loss_2, 'b--', label = \"Canny Edge detector + CNN\")\n",
    "plt.plot(Loss_3, 'g--', label = \"Local Binary pattern + CNN\")\n",
    "plt.plot(Loss_4, 'y--', label = \"Peak Local Max + CNN\")\n",
    "plt.title(\"Loss vs Epoch for Fashion MNIST Dataset (using CNN)\")\n",
    "plt.xlim([0, num_epochs])\n",
    "plt.xlabel(\"Epoch\")\n",
    "plt.ylabel(\"Loss\")\n",
    "plt.legend(bbox_to_anchor=(1.05, 1), loc=2, borderaxespad=0.)\n",
    "plt.show()"
   ]
  },
  {
   "cell_type": "code",
   "execution_count": 30,
   "metadata": {},
   "outputs": [
    {
     "name": "stdout",
     "output_type": "stream",
     "text": [
      "Computation time for classifying the data without feature extraction : 20.582808 minutes\n",
      "Computation time for classifying the data with Canny Edge Detector feature extraction method : 22.281535 mintues\n",
      "Computation time for classifying the data with Local Binary pattern feature extraction method : 16.882989 minutes\n",
      "Computation time for classifying the data with Peak Local Max feature extraction method : 16.385573 minutes\n"
     ]
    }
   ],
   "source": [
    "print(\"Computation time for classifying the data without feature extraction : %f minutes\" %((stop-start)/60))\n",
    "print(\"Computation time for classifying the data with Canny Edge Detector feature extraction method : %f mintues\" %((stop_edge-start_edge)/60))\n",
    "print(\"Computation time for classifying the data with Local Binary pattern feature extraction method : %f minutes\" %((stop_lbp-start_lbp)/60))\n",
    "print(\"Computation time for classifying the data with Peak Local Max feature extraction method : %f minutes\" %((stop_plm-start_plm)/60))"
   ]
  },
  {
   "cell_type": "code",
   "execution_count": null,
   "metadata": {
    "collapsed": true
   },
   "outputs": [],
   "source": []
  }
 ],
 "metadata": {
  "kernelspec": {
   "display_name": "Python 3",
   "language": "python",
   "name": "python3"
  },
  "language_info": {
   "codemirror_mode": {
    "name": "ipython",
    "version": 3
   },
   "file_extension": ".py",
   "mimetype": "text/x-python",
   "name": "python",
   "nbconvert_exporter": "python",
   "pygments_lexer": "ipython3",
   "version": "3.6.3"
  }
 },
 "nbformat": 4,
 "nbformat_minor": 2
}
