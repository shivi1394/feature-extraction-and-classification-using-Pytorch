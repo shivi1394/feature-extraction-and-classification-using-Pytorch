{
 "cells": [
  {
   "cell_type": "code",
   "execution_count": 1,
   "metadata": {
    "collapsed": true
   },
   "outputs": [],
   "source": [
    "import torch\n",
    "import torchvision\n",
    "import torchvision.datasets as datasets\n",
    "import torchvision.transforms as transforms\n",
    "import torch.nn as nn\n",
    "import torch.nn.functional as F\n",
    "import torch.optim as optim\n",
    "import matplotlib \n",
    "import matplotlib.pyplot as plt\n",
    "import numpy as np\n",
    "import pandas as pd\n",
    "import random\n",
    "import math\n",
    "import numpy\n",
    "from PIL import Image\n",
    "from pylab import *\n",
    "from skimage.feature import hog\n",
    "from skimage import feature\n",
    "from sklearn import datasets\n",
    "import cv2\n",
    "from skimage import exposure\n",
    "import timeit\n",
    "from skimage import transform as tf"
   ]
  },
  {
   "cell_type": "code",
   "execution_count": 2,
   "metadata": {
    "collapsed": true
   },
   "outputs": [],
   "source": [
    "#Convolution Neural Network \n",
    "class Net(nn.Module):\n",
    "    def __init__(self):\n",
    "        super(Net, self).__init__()\n",
    "        self.conv1 = nn.Conv2d(1,20,5,1)\n",
    "        self.pool = nn.MaxPool2d(kernel_size=2)\n",
    "        self.conv2 = nn.Conv2d(20, 40, 5, 1)\n",
    "        self.fc1 = nn.Linear(4 * 4 * 40, 500)\n",
    "        self.fc2 = nn.Linear(500, 10)\n",
    "        \n",
    "\n",
    "    def forward(self, x):\n",
    "        x = F.relu(self.conv1(x))\n",
    "        x = self.pool(x)\n",
    "        x = F.relu(self.conv2(x))\n",
    "        x = self.pool(x)\n",
    "        x = x.view(-1, 4 * 4 * 40)\n",
    "        x = F.relu(self.fc1(x))\n",
    "        x = self.fc2(x)\n",
    "        return x\n",
    "\n",
    "\n",
    "net = Net()"
   ]
  },
  {
   "cell_type": "code",
   "execution_count": 4,
   "metadata": {
    "collapsed": true
   },
   "outputs": [],
   "source": [
    "criterion = nn.CrossEntropyLoss() \n",
    "optimizer = optim.Adam(net.parameters(), lr=0.001, betas=(0.9,0.99), eps=1e-08, weight_decay=0.001) "
   ]
  },
  {
   "cell_type": "code",
   "execution_count": 5,
   "metadata": {
    "collapsed": true
   },
   "outputs": [],
   "source": [
    "# transforms to apply to the mnist data\n",
    "trans = transforms.Compose([transforms.ToTensor(), transforms.Normalize((0.1307,), (0.3081,))])\n",
    "\n",
    "# MNIST dataset\n",
    "train_dataset = torchvision.datasets.MNIST(root='./data', train=True, download=True, transform=trans)\n",
    "test_dataset = torchvision.datasets.MNIST(root='./data', train=False, download=True, transform=trans)\n",
    "\n",
    "train_loader = torch.utils.data.DataLoader(train_dataset, batch_size=10, shuffle=True, num_workers=2)\n",
    "test_loader = torch.utils.data.DataLoader(dataset=test_dataset, batch_size=10, shuffle=False, num_workers=2)"
   ]
  },
  {
   "cell_type": "code",
   "execution_count": 6,
   "metadata": {},
   "outputs": [
    {
     "data": {
      "image/png": "[encoded data removed]",
      "text/plain": [
       "<matplotlib.figure.Figure at 0x1c20c7cb70>"
      ]
     },
     "metadata": {},
     "output_type": "display_data"
    }
   ],
   "source": [
    "fig = plt.figure(figsize=(10,10));\n",
    "columns = 4;\n",
    "rows = 5;\n",
    "for i in range(1, 10):\n",
    "    fig.add_subplot(rows, columns, i)\n",
    "    fig.tight_layout()\n",
    "    plt.imshow(train_dataset.train_data[i].numpy(), cmap='gray')\n",
    "    plt.title('Label : %i' % train_dataset.train_labels[i])\n",
    "plt.show()"
   ]
  },
  {
   "cell_type": "code",
   "execution_count": 7,
   "metadata": {},
   "outputs": [
    {
     "name": "stdout",
     "output_type": "stream",
     "text": [
      "----------------------------------------------------\n",
      "Epoch 1  | Loss : 0.1126\n",
      "----------------------------------------------------\n",
      "Epoch 2  | Loss : 0.0596\n",
      "----------------------------------------------------\n",
      "Epoch 3  | Loss : 0.0522\n",
      "----------------------------------------------------\n",
      "Epoch 4  | Loss : 0.0490\n",
      "----------------------------------------------------\n",
      "Epoch 5  | Loss : 0.0440\n",
      "----------------------------------------------------\n",
      "Epoch 6  | Loss : 0.0433\n",
      "----------------------------------------------------\n",
      "Epoch 7  | Loss : 0.0421\n",
      "----------------------------------------------------\n",
      "Epoch 8  | Loss : 0.0411\n",
      "----------------------------------------------------\n",
      "Epoch 9  | Loss : 0.0392\n",
      "----------------------------------------------------\n",
      "Epoch 10  | Loss : 0.0397\n",
      "----------------------------------------------------\n",
      "Epoch 11  | Loss : 0.0388\n",
      "----------------------------------------------------\n",
      "Epoch 12  | Loss : 0.0381\n",
      "----------------------------------------------------\n",
      "Epoch 13  | Loss : 0.0375\n",
      "----------------------------------------------------\n",
      "Epoch 14  | Loss : 0.0384\n",
      "----------------------------------------------------\n",
      "Epoch 15  | Loss : 0.0364\n",
      "----------------------------------------------------\n",
      "Epoch 16  | Loss : 0.0381\n",
      "----------------------------------------------------\n",
      "Epoch 17  | Loss : 0.0364\n",
      "----------------------------------------------------\n",
      "Epoch 18  | Loss : 0.0374\n",
      "----------------------------------------------------\n",
      "Epoch 19  | Loss : 0.0358\n",
      "----------------------------------------------------\n",
      "Epoch 20  | Loss : 0.0370\n",
      "----------------------------------------------------\n",
      "Finished Training\n"
     ]
    }
   ],
   "source": [
    "num_epochs = 20\n",
    "total_step = len(train_loader)\n",
    "Loss_1 = []\n",
    "print('----------------------------------------------------')\n",
    "start = timeit.default_timer()\n",
    "for epoch in range(num_epochs):  # loop over the dataset multiple times\n",
    "\n",
    "    running_loss = 0.0\n",
    "    for i, data in enumerate(train_loader, 0):\n",
    "        # get the inputs\n",
    "        inputs, labels = data\n",
    "\n",
    "        # zero the parameter gradients\n",
    "        optimizer.zero_grad()\n",
    "\n",
    "        # forward + backward + optimize\n",
    "        outputs = net(inputs)\n",
    "        loss = criterion(outputs, labels)\n",
    "        loss.backward()\n",
    "        optimizer.step()\n",
    "\n",
    "        # print statistics\n",
    "        running_loss += loss.item()\n",
    "        \n",
    "    print('Epoch {}  | Loss : {:.4f}'.format(epoch+1, running_loss / total_step))        \n",
    "    print('----------------------------------------------------')\n",
    "    Loss_1.append(running_loss / total_step)\n",
    "print('Finished Training')\n",
    "stop = timeit.default_timer()"
   ]
  },
  {
   "cell_type": "code",
   "execution_count": 8,
   "metadata": {},
   "outputs": [
    {
     "name": "stdout",
     "output_type": "stream",
     "text": [
      "Accuracy of the network on the Test images: 98 %\n"
     ]
    }
   ],
   "source": [
    "correct = 0\n",
    "total = 0\n",
    "with torch.no_grad():\n",
    "    for data in test_loader:\n",
    "        images, labels = data\n",
    "        outputs = net(images)\n",
    "        _, predicted = torch.max(outputs.data, 1)\n",
    "        total += labels.size(0)\n",
    "        correct += (predicted == labels).sum().item()\n",
    "\n",
    "print('Accuracy of the network on the Test images: %d %%' % (100 * correct / total))"
   ]
  },
  {
   "cell_type": "code",
   "execution_count": 9,
   "metadata": {},
   "outputs": [
    {
     "name": "stdout",
     "output_type": "stream",
     "text": [
      "Accuracy of class 0 : 99 %\n",
      "Accuracy of class 1 : 99 %\n",
      "Accuracy of class 2 : 97 %\n",
      "Accuracy of class 3 : 99 %\n",
      "Accuracy of class 4 : 99 %\n",
      "Accuracy of class 5 : 98 %\n",
      "Accuracy of class 6 : 98 %\n",
      "Accuracy of class 7 : 99 %\n",
      "Accuracy of class 8 : 97 %\n",
      "Accuracy of class 9 : 95 %\n"
     ]
    }
   ],
   "source": [
    "classes = (0, 1, 2, 3, 4, 5, 6, 7, 8, 9)\n",
    "class_correct = list(0. for i in range(10))\n",
    "class_total = list(0. for i in range(10))\n",
    "with torch.no_grad():\n",
    "    for data in test_loader:\n",
    "        images, labels = data\n",
    "        outputs = net(images)\n",
    "        _, predicted = torch.max(outputs, 1)\n",
    "        c = (predicted == labels).squeeze()\n",
    "        for i in range(10):\n",
    "            label = labels[i]\n",
    "            class_correct[label] += c[i].item()\n",
    "            class_total[label] += 1\n",
    "\n",
    "for i in range(10):\n",
    "    print('Accuracy of class %s : %2d %%' % (\n",
    "        classes[i], 100 * class_correct[i] / class_total[i]))"
   ]
  },
  {
   "cell_type": "code",
   "execution_count": 10,
   "metadata": {
    "collapsed": true
   },
   "outputs": [],
   "source": [
    "train_edge = torchvision.datasets.MNIST(root='./data', train=True, download=True, transform=trans)\n",
    "test_edge = torchvision.datasets.MNIST(root='./data', train=False, download=True, transform=trans)\n",
    "\n",
    "for i in range(0,len(train_edge)):\n",
    "    image = feature.canny(train_edge.train_data[i].numpy()) * 1\n",
    "    train_edge.train_data[i] = torch.from_numpy(image)\n",
    "    \n",
    "for i in range(0,len(test_edge)):\n",
    "    image = feature.canny(test_edge.test_data[i].numpy()) * 1\n",
    "    test_edge.test_data[i] = torch.from_numpy(image)"
   ]
  },
  {
   "cell_type": "code",
   "execution_count": 11,
   "metadata": {},
   "outputs": [
    {
     "data": {
      "image/png": "[encoded data removed]",
      "text/plain": [
       "<matplotlib.figure.Figure at 0x1c249c9d68>"
      ]
     },
     "metadata": {},
     "output_type": "display_data"
    }
   ],
   "source": [
    "fig = plt.figure(figsize=(10,10));\n",
    "columns = 4;\n",
    "rows = 5;\n",
    "for i in range(1, 10):\n",
    "    fig.add_subplot(rows, columns, i)\n",
    "    fig.tight_layout()\n",
    "    plt.imshow(train_edge.train_data[i].numpy(), cmap='gray')\n",
    "    plt.title('Label : %i' % train_edge.train_labels[i])\n",
    "plt.show()\n"
   ]
  },
  {
   "cell_type": "code",
   "execution_count": 12,
   "metadata": {
    "collapsed": true
   },
   "outputs": [],
   "source": [
    "train_edge_loader = torch.utils.data.DataLoader(dataset=train_edge, batch_size=10, shuffle=True, num_workers=2)\n",
    "test_edge_loader = torch.utils.data.DataLoader(dataset=test_edge, batch_size=10, shuffle=False, num_workers=2)"
   ]
  },
  {
   "cell_type": "code",
   "execution_count": 13,
   "metadata": {},
   "outputs": [
    {
     "name": "stdout",
     "output_type": "stream",
     "text": [
      "----------------------------------------------------\n",
      "Epoch 1  | Loss : 2.3019\n",
      "----------------------------------------------------\n",
      "Epoch 2  | Loss : 2.3018\n",
      "----------------------------------------------------\n",
      "Epoch 3  | Loss : 2.3018\n",
      "----------------------------------------------------\n",
      "Epoch 4  | Loss : 2.3017\n",
      "----------------------------------------------------\n",
      "Epoch 5  | Loss : 2.3016\n",
      "----------------------------------------------------\n",
      "Epoch 6  | Loss : 2.3017\n",
      "----------------------------------------------------\n",
      "Epoch 7  | Loss : 2.3017\n",
      "----------------------------------------------------\n",
      "Epoch 8  | Loss : 2.3017\n",
      "----------------------------------------------------\n",
      "Epoch 9  | Loss : 2.3018\n",
      "----------------------------------------------------\n",
      "Epoch 10  | Loss : 2.3017\n",
      "----------------------------------------------------\n",
      "Epoch 11  | Loss : 2.3017\n",
      "----------------------------------------------------\n",
      "Epoch 12  | Loss : 2.3018\n",
      "----------------------------------------------------\n",
      "Epoch 13  | Loss : 2.3017\n",
      "----------------------------------------------------\n",
      "Epoch 14  | Loss : 2.3018\n",
      "----------------------------------------------------\n",
      "Epoch 15  | Loss : 2.3017\n",
      "----------------------------------------------------\n",
      "Epoch 16  | Loss : 2.3017\n",
      "----------------------------------------------------\n",
      "Epoch 17  | Loss : 2.3017\n",
      "----------------------------------------------------\n",
      "Epoch 18  | Loss : 2.3017\n",
      "----------------------------------------------------\n",
      "Epoch 19  | Loss : 2.3017\n",
      "----------------------------------------------------\n",
      "Epoch 20  | Loss : 2.3017\n",
      "----------------------------------------------------\n",
      "Finished Training\n"
     ]
    }
   ],
   "source": [
    "num_epochs = 20\n",
    "total_step = len(train_edge_loader)\n",
    "Loss_2 = []\n",
    "print('----------------------------------------------------')\n",
    "start_edge = timeit.default_timer()\n",
    "for epoch in range(num_epochs):  # loop over the dataset multiple times\n",
    "\n",
    "    running_loss = 0.0\n",
    "    for i, data in enumerate(train_edge_loader, 0):\n",
    "        # get the inputs\n",
    "        inputs, labels = data\n",
    "\n",
    "        # zero the parameter gradients\n",
    "        optimizer.zero_grad()\n",
    "\n",
    "        # forward + backward + optimize\n",
    "        outputs = net(inputs)\n",
    "        loss = criterion(outputs, labels)\n",
    "        loss.backward()\n",
    "        optimizer.step()\n",
    "\n",
    "        # print statistics\n",
    "        running_loss += loss.item()\n",
    "        \n",
    "    print('Epoch {}  | Loss : {:.4f}'.format(epoch+1, running_loss / total_step))        \n",
    "    print('----------------------------------------------------')\n",
    "    Loss_2.append(running_loss / total_step)\n",
    "print('Finished Training')\n",
    "stop_edge = timeit.default_timer()"
   ]
  },
  {
   "cell_type": "code",
   "execution_count": 14,
   "metadata": {},
   "outputs": [
    {
     "name": "stdout",
     "output_type": "stream",
     "text": [
      "Accuracy of the network on the Test images: 11 %\n"
     ]
    }
   ],
   "source": [
    "correct = 0\n",
    "total = 0\n",
    "with torch.no_grad():\n",
    "    for data in test_edge_loader:\n",
    "        images, labels = data\n",
    "        outputs = net(images)\n",
    "        _, predicted = torch.max(outputs.data, 1)\n",
    "        total += labels.size(0)\n",
    "        correct += (predicted == labels).sum().item()\n",
    "\n",
    "print('Accuracy of the network on the Test images: %d %%' % (100 * correct / total))"
   ]
  },
  {
   "cell_type": "code",
   "execution_count": 15,
   "metadata": {},
   "outputs": [
    {
     "name": "stdout",
     "output_type": "stream",
     "text": [
      "Accuracy of class 0 :  0 %\n",
      "Accuracy of class 1 : 100 %\n",
      "Accuracy of class 2 :  0 %\n",
      "Accuracy of class 3 :  0 %\n",
      "Accuracy of class 4 :  0 %\n",
      "Accuracy of class 5 :  0 %\n",
      "Accuracy of class 6 :  0 %\n",
      "Accuracy of class 7 :  0 %\n",
      "Accuracy of class 8 :  0 %\n",
      "Accuracy of class 9 :  0 %\n"
     ]
    }
   ],
   "source": [
    "classes = (0, 1, 2, 3, 4, 5, 6, 7, 8, 9)\n",
    "class_correct = list(0. for i in range(10))\n",
    "class_total = list(0. for i in range(10))\n",
    "with torch.no_grad():\n",
    "    for data in test_edge_loader:\n",
    "        images, labels = data\n",
    "        outputs = net(images)\n",
    "        _, predicted = torch.max(outputs, 1)\n",
    "        c = (predicted == labels).squeeze()\n",
    "        for i in range(10):\n",
    "            label = labels[i]\n",
    "            class_correct[label] += c[i].item()\n",
    "            class_total[label] += 1\n",
    "\n",
    "for i in range(10):\n",
    "    print('Accuracy of class %s : %2d %%' % (\n",
    "        classes[i], 100 * class_correct[i] / class_total[i]))"
   ]
  },
  {
   "cell_type": "code",
   "execution_count": 16,
   "metadata": {
    "collapsed": true
   },
   "outputs": [],
   "source": [
    "train_lbp = torchvision.datasets.MNIST(root='./data', train=True, download=True, transform=trans)\n",
    "test_lbp = torchvision.datasets.MNIST(root='./data', train=False, download=True, transform=trans)\n",
    "\n",
    "for i in range(0,len(train_lbp)):\n",
    "    image = feature.local_binary_pattern(train_lbp.train_data[i].numpy(), P = 100, R = 50)\n",
    "    train_lbp.train_data[i] = torch.from_numpy(image)\n",
    "    \n",
    "for i in range(0,len(test_lbp)):\n",
    "    image = feature.local_binary_pattern(test_lbp.test_data[i].numpy(), P = 100, R = 50)\n",
    "    test_lbp.test_data[i] = torch.from_numpy(image)\n"
   ]
  },
  {
   "cell_type": "code",
   "execution_count": 17,
   "metadata": {},
   "outputs": [
    {
     "data": {
      "image/png": "[encoded data removed]",
      "text/plain": [
       "<matplotlib.figure.Figure at 0x10ec91470>"
      ]
     },
     "metadata": {},
     "output_type": "display_data"
    }
   ],
   "source": [
    "fig = plt.figure(figsize=(10,10));\n",
    "columns = 4;\n",
    "rows = 5;\n",
    "for i in range(1, 10):\n",
    "    fig.add_subplot(rows, columns, i)\n",
    "    fig.tight_layout()\n",
    "    plt.imshow(train_lbp.train_data[i].numpy(), cmap='gray')\n",
    "    plt.title('Label : %i' % train_lbp.train_labels[i])\n",
    "plt.show()"
   ]
  },
  {
   "cell_type": "code",
   "execution_count": 18,
   "metadata": {
    "collapsed": true
   },
   "outputs": [],
   "source": [
    "train_lbp_loader = torch.utils.data.DataLoader(train_lbp, batch_size=10, shuffle=True, num_workers=2)\n",
    "test_lbp_loader = torch.utils.data.DataLoader(dataset=test_lbp, batch_size=10, shuffle=False, num_workers=2)"
   ]
  },
  {
   "cell_type": "code",
   "execution_count": 19,
   "metadata": {},
   "outputs": [
    {
     "name": "stdout",
     "output_type": "stream",
     "text": [
      "----------------------------------------------------\n",
      "Epoch 1  | Loss : 0.1758\n",
      "----------------------------------------------------\n",
      "Epoch 2  | Loss : 0.0753\n",
      "----------------------------------------------------\n",
      "Epoch 3  | Loss : 0.0667\n",
      "----------------------------------------------------\n",
      "Epoch 4  | Loss : 0.0607\n",
      "----------------------------------------------------\n",
      "Epoch 5  | Loss : 0.0580\n",
      "----------------------------------------------------\n",
      "Epoch 6  | Loss : 0.0556\n",
      "----------------------------------------------------\n",
      "Epoch 7  | Loss : 0.0521\n",
      "----------------------------------------------------\n",
      "Epoch 8  | Loss : 0.0525\n",
      "----------------------------------------------------\n",
      "Epoch 9  | Loss : 0.0502\n",
      "----------------------------------------------------\n",
      "Epoch 10  | Loss : 0.0492\n",
      "----------------------------------------------------\n",
      "Epoch 11  | Loss : 0.0480\n",
      "----------------------------------------------------\n",
      "Epoch 12  | Loss : 0.0479\n",
      "----------------------------------------------------\n",
      "Epoch 13  | Loss : 0.0471\n",
      "----------------------------------------------------\n",
      "Epoch 14  | Loss : 0.0462\n",
      "----------------------------------------------------\n",
      "Epoch 15  | Loss : 0.0465\n",
      "----------------------------------------------------\n",
      "Epoch 16  | Loss : 0.0451\n",
      "----------------------------------------------------\n",
      "Epoch 17  | Loss : 0.0456\n",
      "----------------------------------------------------\n",
      "Epoch 18  | Loss : 0.0456\n",
      "----------------------------------------------------\n",
      "Epoch 19  | Loss : 0.0444\n",
      "----------------------------------------------------\n",
      "Epoch 20  | Loss : 0.0439\n",
      "----------------------------------------------------\n",
      "Finished Training\n"
     ]
    }
   ],
   "source": [
    "num_epochs = 20\n",
    "total_step = len(train_lbp_loader)\n",
    "Loss_3 = []\n",
    "print('----------------------------------------------------')\n",
    "start_lbp = timeit.default_timer()\n",
    "for epoch in range(num_epochs):  # loop over the dataset multiple times\n",
    "\n",
    "    running_loss = 0.0\n",
    "    for i, data in enumerate(train_lbp_loader, 0):\n",
    "        # get the inputs\n",
    "        inputs, labels = data\n",
    "\n",
    "        # zero the parameter gradients\n",
    "        optimizer.zero_grad()\n",
    "\n",
    "        # forward + backward + optimize\n",
    "        outputs = net(inputs)\n",
    "        loss = criterion(outputs, labels)\n",
    "        loss.backward()\n",
    "        optimizer.step()\n",
    "\n",
    "        # print statistics\n",
    "        running_loss += loss.item()\n",
    "        \n",
    "    print('Epoch {}  | Loss : {:.4f}'.format(epoch+1, running_loss / total_step))        \n",
    "    print('----------------------------------------------------')\n",
    "    Loss_3.append(running_loss / total_step)\n",
    "print('Finished Training')\n",
    "stop_lbp = timeit.default_timer()"
   ]
  },
  {
   "cell_type": "code",
   "execution_count": 20,
   "metadata": {},
   "outputs": [
    {
     "name": "stdout",
     "output_type": "stream",
     "text": [
      "Accuracy of the network on the Test images: 98 %\n"
     ]
    }
   ],
   "source": [
    "correct = 0\n",
    "total = 0\n",
    "with torch.no_grad():\n",
    "    for data in test_lbp_loader:\n",
    "        images, labels = data\n",
    "        outputs = net(images)\n",
    "        _, predicted = torch.max(outputs.data, 1)\n",
    "        total += labels.size(0)\n",
    "        correct += (predicted == labels).sum().item()\n",
    "\n",
    "print('Accuracy of the network on the Test images: %d %%' % (100 * correct / total))"
   ]
  },
  {
   "cell_type": "code",
   "execution_count": 21,
   "metadata": {},
   "outputs": [
    {
     "name": "stdout",
     "output_type": "stream",
     "text": [
      "Accuracy of class 0 : 98 %\n",
      "Accuracy of class 1 : 99 %\n",
      "Accuracy of class 2 : 98 %\n",
      "Accuracy of class 3 : 99 %\n",
      "Accuracy of class 4 : 97 %\n",
      "Accuracy of class 5 : 96 %\n",
      "Accuracy of class 6 : 98 %\n",
      "Accuracy of class 7 : 95 %\n",
      "Accuracy of class 8 : 99 %\n",
      "Accuracy of class 9 : 98 %\n"
     ]
    }
   ],
   "source": [
    "classes = (0, 1, 2, 3, 4, 5, 6, 7, 8, 9)\n",
    "class_correct = list(0. for i in range(10))\n",
    "class_total = list(0. for i in range(10))\n",
    "with torch.no_grad():\n",
    "    for data in test_lbp_loader:\n",
    "        images, labels = data\n",
    "        outputs = net(images)\n",
    "        _, predicted = torch.max(outputs, 1)\n",
    "        c = (predicted == labels).squeeze()\n",
    "        for i in range(10):\n",
    "            label = labels[i]\n",
    "            class_correct[label] += c[i].item()\n",
    "            class_total[label] += 1\n",
    "            \n",
    "for i in range(10):\n",
    "    print('Accuracy of class %s : %2d %%' % (\n",
    "        classes[i], 100 * class_correct[i] / class_total[i]))\n"
   ]
  },
  {
   "cell_type": "code",
   "execution_count": 22,
   "metadata": {
    "collapsed": true
   },
   "outputs": [],
   "source": [
    "train_plm = torchvision.datasets.MNIST(root='./data', train=True, download=True, transform=trans)\n",
    "test_plm = torchvision.datasets.MNIST(root='./data', train=False, download=True, transform=trans)\n",
    "\n",
    "for i in range(0,len(train_plm)):\n",
    "    image = feature.peak_local_max(train_plm.train_data[i].numpy(), indices = False) * 1\n",
    "    train_plm.train_data[i] = torch.from_numpy(image)\n",
    "    \n",
    "for i in range(0,len(test_plm)):\n",
    "    image = feature.peak_local_max(test_plm.test_data[i].numpy(), indices = False) * 1\n",
    "    test_plm.test_data[i] = torch.from_numpy(image)\n"
   ]
  },
  {
   "cell_type": "code",
   "execution_count": 23,
   "metadata": {},
   "outputs": [
    {
     "data": {
      "image/png": "[encoded data removed]",
      "text/plain": [
       "<matplotlib.figure.Figure at 0x1c20da6a20>"
      ]
     },
     "metadata": {},
     "output_type": "display_data"
    }
   ],
   "source": [
    "fig = plt.figure(figsize=(10,10));\n",
    "columns = 4;\n",
    "rows = 5;\n",
    "for i in range(1, 10):\n",
    "    fig.add_subplot(rows, columns, i)\n",
    "    fig.tight_layout()\n",
    "    plt.imshow(train_plm.train_data[i].numpy(), cmap='gray')\n",
    "    plt.title('Label : %i' % train_lbp.train_labels[i])\n",
    "plt.show()"
   ]
  },
  {
   "cell_type": "code",
   "execution_count": 24,
   "metadata": {
    "collapsed": true
   },
   "outputs": [],
   "source": [
    "train_plm_loader = torch.utils.data.DataLoader(train_plm, batch_size=10, shuffle=True, num_workers=2)\n",
    "test_plm_loader = torch.utils.data.DataLoader(dataset=test_plm, batch_size=10, shuffle=False, num_workers=2)"
   ]
  },
  {
   "cell_type": "code",
   "execution_count": 25,
   "metadata": {},
   "outputs": [
    {
     "name": "stdout",
     "output_type": "stream",
     "text": [
      "----------------------------------------------------\n",
      "Epoch 1  | Loss : 2.3021\n",
      "----------------------------------------------------\n",
      "Epoch 2  | Loss : 2.3018\n",
      "----------------------------------------------------\n",
      "Epoch 3  | Loss : 2.3017\n",
      "----------------------------------------------------\n",
      "Epoch 4  | Loss : 2.3017\n",
      "----------------------------------------------------\n",
      "Epoch 5  | Loss : 2.3017\n",
      "----------------------------------------------------\n",
      "Epoch 6  | Loss : 2.3017\n",
      "----------------------------------------------------\n",
      "Epoch 7  | Loss : 2.3016\n",
      "----------------------------------------------------\n",
      "Epoch 8  | Loss : 2.3018\n",
      "----------------------------------------------------\n",
      "Epoch 9  | Loss : 2.3016\n",
      "----------------------------------------------------\n",
      "Epoch 10  | Loss : 2.3018\n",
      "----------------------------------------------------\n",
      "Epoch 11  | Loss : 2.3017\n",
      "----------------------------------------------------\n",
      "Epoch 12  | Loss : 2.3016\n",
      "----------------------------------------------------\n",
      "Epoch 13  | Loss : 2.3016\n",
      "----------------------------------------------------\n",
      "Epoch 14  | Loss : 2.3017\n",
      "----------------------------------------------------\n",
      "Epoch 15  | Loss : 2.3018\n",
      "----------------------------------------------------\n",
      "Epoch 16  | Loss : 2.3016\n",
      "----------------------------------------------------\n",
      "Epoch 17  | Loss : 2.3018\n",
      "----------------------------------------------------\n",
      "Epoch 18  | Loss : 2.3017\n",
      "----------------------------------------------------\n",
      "Epoch 19  | Loss : 2.3017\n",
      "----------------------------------------------------\n",
      "Epoch 20  | Loss : 2.3017\n",
      "----------------------------------------------------\n",
      "Finished Training\n"
     ]
    }
   ],
   "source": [
    "num_epochs = 20\n",
    "total_step = len(train_plm_loader)\n",
    "Loss_4 = []\n",
    "print('----------------------------------------------------')\n",
    "start_plm = timeit.default_timer()\n",
    "for epoch in range(num_epochs):  # loop over the dataset multiple times\n",
    "\n",
    "    running_loss = 0.0\n",
    "    for i, data in enumerate(train_plm_loader, 0):\n",
    "        # get the inputs\n",
    "        inputs, labels = data\n",
    "\n",
    "        # zero the parameter gradients\n",
    "        optimizer.zero_grad()\n",
    "\n",
    "        # forward + backward + optimize\n",
    "        outputs = net(inputs)\n",
    "        loss = criterion(outputs, labels)\n",
    "        loss.backward()\n",
    "        optimizer.step()\n",
    "\n",
    "        # print statistics\n",
    "        running_loss += loss.item()\n",
    "        \n",
    "    print('Epoch {}  | Loss : {:.4f}'.format(epoch+1, running_loss / total_step))        \n",
    "    print('----------------------------------------------------')\n",
    "    Loss_4.append(running_loss / total_step)\n",
    "print('Finished Training')\n",
    "stop_plm = timeit.default_timer()"
   ]
  },
  {
   "cell_type": "code",
   "execution_count": 26,
   "metadata": {},
   "outputs": [
    {
     "name": "stdout",
     "output_type": "stream",
     "text": [
      "Accuracy of the network on the Test images: 11 %\n"
     ]
    }
   ],
   "source": [
    "correct = 0\n",
    "total = 0\n",
    "with torch.no_grad():\n",
    "    for data in test_plm_loader:\n",
    "        images, labels = data\n",
    "        outputs = net(images)\n",
    "        _, predicted = torch.max(outputs.data, 1)\n",
    "        total += labels.size(0)\n",
    "        correct += (predicted == labels).sum().item()\n",
    "\n",
    "print('Accuracy of the network on the Test images: %d %%' % (100 * correct / total))"
   ]
  },
  {
   "cell_type": "code",
   "execution_count": 27,
   "metadata": {},
   "outputs": [
    {
     "name": "stdout",
     "output_type": "stream",
     "text": [
      "Accuracy of class 0 :  0 %\n",
      "Accuracy of class 1 : 100 %\n",
      "Accuracy of class 2 :  0 %\n",
      "Accuracy of class 3 :  0 %\n",
      "Accuracy of class 4 :  0 %\n",
      "Accuracy of class 5 :  0 %\n",
      "Accuracy of class 6 :  0 %\n",
      "Accuracy of class 7 :  0 %\n",
      "Accuracy of class 8 :  0 %\n",
      "Accuracy of class 9 :  0 %\n"
     ]
    }
   ],
   "source": [
    "classes = (0, 1, 2, 3, 4, 5, 6, 7, 8, 9)\n",
    "class_correct = list(0. for i in range(10))\n",
    "class_total = list(0. for i in range(10))\n",
    "with torch.no_grad():\n",
    "    for data in test_plm_loader:\n",
    "        images, labels = data\n",
    "        outputs = net(images)\n",
    "        _, predicted = torch.max(outputs, 1)\n",
    "        c = (predicted == labels).squeeze()\n",
    "        for i in range(10):\n",
    "            label = labels[i]\n",
    "            class_correct[label] += c[i].item()\n",
    "            class_total[label] += 1\n",
    "            \n",
    "for i in range(10):\n",
    "    print('Accuracy of class %s : %2d %%' % (\n",
    "        classes[i], 100 * class_correct[i] / class_total[i]))"
   ]
  },
  {
   "cell_type": "code",
   "execution_count": 28,
   "metadata": {},
   "outputs": [
    {
     "data": {
      "image/png": "[encoded data removed]",
      "text/plain": [
       "<matplotlib.figure.Figure at 0x1c20e22198>"
      ]
     },
     "metadata": {},
     "output_type": "display_data"
    }
   ],
   "source": [
    "plt.plot(Loss_1, 'r--', label = \"CNN\")\n",
    "plt.plot(Loss_2, 'b--', label = \"Canny Edge detector + CNN\")\n",
    "plt.plot(Loss_3, 'g--', label = \"Local Binary pattern + CNN\")\n",
    "plt.plot(Loss_4, 'y--', label = \"Peak Local Max + CNN\")\n",
    "plt.title(\"Loss vs Epoch for MNIST Dataset (using CNN)\")\n",
    "plt.xlim([0, num_epochs])\n",
    "plt.xlabel(\"Epoch\")\n",
    "plt.ylabel(\"Loss\")\n",
    "plt.legend(bbox_to_anchor=(1.05, 1), loc=2, borderaxespad=0.)\n",
    "plt.show()"
   ]
  },
  {
   "cell_type": "code",
   "execution_count": 29,
   "metadata": {},
   "outputs": [
    {
     "name": "stdout",
     "output_type": "stream",
     "text": [
      "Computation time for classifying the data without feature extraction : 20.381968 minutes\n",
      "Computation time for classifying the data with Canny Edge Detector feature extraction method : 23.323562 mintues\n",
      "Computation time for classifying the data with Local Binary pattern feature extraction method : 20.954134 minutes\n",
      "Computation time for classifying the data with Peak Local Max feature extraction method : 22.922324 minutes\n"
     ]
    }
   ],
   "source": [
    "print(\"Computation time for classifying the data without feature extraction : %f minutes\" %((stop-start)/60))\n",
    "print(\"Computation time for classifying the data with Canny Edge Detector feature extraction method : %f mintues\" %((stop_edge-start_edge)/60))\n",
    "print(\"Computation time for classifying the data with Local Binary pattern feature extraction method : %f minutes\" %((stop_lbp-start_lbp)/60))\n",
    "print(\"Computation time for classifying the data with Peak Local Max feature extraction method : %f minutes\" %((stop_plm-start_plm)/60))"
   ]
  },
  {
   "cell_type": "code",
   "execution_count": null,
   "metadata": {
    "collapsed": true
   },
   "outputs": [],
   "source": []
  }
 ],
 "metadata": {
  "kernelspec": {
   "display_name": "Python 3",
   "language": "python",
   "name": "python3"
  },
  "language_info": {
   "codemirror_mode": {
    "name": "ipython",
    "version": 3
   },
   "file_extension": ".py",
   "mimetype": "text/x-python",
   "name": "python",
   "nbconvert_exporter": "python",
   "pygments_lexer": "ipython3",
   "version": "3.6.3"
  }
 },
 "nbformat": 4,
 "nbformat_minor": 2
}
